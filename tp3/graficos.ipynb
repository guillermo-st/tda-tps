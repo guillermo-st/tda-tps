{
 "cells": [
  {
   "cell_type": "code",
   "execution_count": 4,
   "id": "7383eb17",
   "metadata": {},
   "outputs": [],
   "source": [
    "from common import parse_file, is_feasible\n",
    "from lineal import lineal_hitting_set\n",
    "import time\n",
    "import math\n",
    "import matplotlib.pyplot as plt"
   ]
  },
  {
   "cell_type": "code",
   "execution_count": 6,
   "id": "169c08fb",
   "metadata": {},
   "outputs": [
    {
     "ename": "PulpSolverError",
     "evalue": "Pulp: cannot execute C:\\Users\\Guillermo\\anaconda3\\envs\\tda\\Lib\\site-packages\\pulp\\solverdir\\cbc\\win\\64\\cbc.exe cwd: C:\\Users\\Guillermo\\Documents\\tda\\tda-tps\\tp3",
     "output_type": "error",
     "traceback": [
      "\u001b[1;31m---------------------------------------------------------------------------\u001b[0m",
      "\u001b[1;31mPulpSolverError\u001b[0m                           Traceback (most recent call last)",
      "Cell \u001b[1;32mIn[6], line 13\u001b[0m\n\u001b[0;32m     10\u001b[0m a, b \u001b[38;5;241m=\u001b[39m parse_file(filename)\n\u001b[0;32m     12\u001b[0m start_time \u001b[38;5;241m=\u001b[39m time\u001b[38;5;241m.\u001b[39mtime()\n\u001b[1;32m---> 13\u001b[0m c \u001b[38;5;241m=\u001b[39m lineal_hitting_set(a, b)\n\u001b[0;32m     14\u001b[0m end_time \u001b[38;5;241m=\u001b[39m time\u001b[38;5;241m.\u001b[39mtime()\n\u001b[0;32m     16\u001b[0m ns\u001b[38;5;241m.\u001b[39mappend(i)\n",
      "File \u001b[1;32m~\\Documents\\tda\\tda-tps\\tp3\\lineal.py:12\u001b[0m, in \u001b[0;36mlineal_hitting_set\u001b[1;34m(A, B)\u001b[0m\n\u001b[0;32m     10\u001b[0m \u001b[38;5;28;01mfor\u001b[39;00m b \u001b[38;5;129;01min\u001b[39;00m B:\n\u001b[0;32m     11\u001b[0m     prob \u001b[38;5;241m+\u001b[39m\u001b[38;5;241m=\u001b[39m pulp\u001b[38;5;241m.\u001b[39mlpSum([x[a] \u001b[38;5;28;01mfor\u001b[39;00m a \u001b[38;5;129;01min\u001b[39;00m b]) \u001b[38;5;241m>\u001b[39m\u001b[38;5;241m=\u001b[39m \u001b[38;5;241m1\u001b[39m\n\u001b[1;32m---> 12\u001b[0m prob\u001b[38;5;241m.\u001b[39msolve(pulp\u001b[38;5;241m.\u001b[39mPULP_CBC_CMD(msg\u001b[38;5;241m=\u001b[39m\u001b[38;5;28;01mFalse\u001b[39;00m))\n\u001b[0;32m     13\u001b[0m \u001b[38;5;28;01mreturn\u001b[39;00m \u001b[38;5;28mset\u001b[39m(a \u001b[38;5;28;01mfor\u001b[39;00m a \u001b[38;5;129;01min\u001b[39;00m A \u001b[38;5;28;01mif\u001b[39;00m x[a]\u001b[38;5;241m.\u001b[39mvalue() \u001b[38;5;241m==\u001b[39m \u001b[38;5;241m1\u001b[39m)\n",
      "File \u001b[1;32m~\\anaconda3\\envs\\tda\\Lib\\site-packages\\pulp\\pulp.py:1913\u001b[0m, in \u001b[0;36mLpProblem.solve\u001b[1;34m(self, solver, **kwargs)\u001b[0m\n\u001b[0;32m   1911\u001b[0m \u001b[38;5;66;03m# time it\u001b[39;00m\n\u001b[0;32m   1912\u001b[0m \u001b[38;5;28mself\u001b[39m\u001b[38;5;241m.\u001b[39mstartClock()\n\u001b[1;32m-> 1913\u001b[0m status \u001b[38;5;241m=\u001b[39m solver\u001b[38;5;241m.\u001b[39mactualSolve(\u001b[38;5;28mself\u001b[39m, \u001b[38;5;241m*\u001b[39m\u001b[38;5;241m*\u001b[39mkwargs)\n\u001b[0;32m   1914\u001b[0m \u001b[38;5;28mself\u001b[39m\u001b[38;5;241m.\u001b[39mstopClock()\n\u001b[0;32m   1915\u001b[0m \u001b[38;5;28mself\u001b[39m\u001b[38;5;241m.\u001b[39mrestoreObjective(wasNone, dummyVar)\n",
      "File \u001b[1;32m~\\anaconda3\\envs\\tda\\Lib\\site-packages\\pulp\\apis\\coin_api.py:137\u001b[0m, in \u001b[0;36mCOIN_CMD.actualSolve\u001b[1;34m(self, lp, **kwargs)\u001b[0m\n\u001b[0;32m    135\u001b[0m \u001b[38;5;28;01mdef\u001b[39;00m \u001b[38;5;21mactualSolve\u001b[39m(\u001b[38;5;28mself\u001b[39m, lp, \u001b[38;5;241m*\u001b[39m\u001b[38;5;241m*\u001b[39mkwargs):\n\u001b[0;32m    136\u001b[0m \u001b[38;5;250m    \u001b[39m\u001b[38;5;124;03m\"\"\"Solve a well formulated lp problem\"\"\"\u001b[39;00m\n\u001b[1;32m--> 137\u001b[0m     \u001b[38;5;28;01mreturn\u001b[39;00m \u001b[38;5;28mself\u001b[39m\u001b[38;5;241m.\u001b[39msolve_CBC(lp, \u001b[38;5;241m*\u001b[39m\u001b[38;5;241m*\u001b[39mkwargs)\n",
      "File \u001b[1;32m~\\anaconda3\\envs\\tda\\Lib\\site-packages\\pulp\\apis\\coin_api.py:146\u001b[0m, in \u001b[0;36mCOIN_CMD.solve_CBC\u001b[1;34m(self, lp, use_mps)\u001b[0m\n\u001b[0;32m    144\u001b[0m \u001b[38;5;250m\u001b[39m\u001b[38;5;124;03m\"\"\"Solve a MIP problem using CBC\"\"\"\u001b[39;00m\n\u001b[0;32m    145\u001b[0m \u001b[38;5;28;01mif\u001b[39;00m \u001b[38;5;129;01mnot\u001b[39;00m \u001b[38;5;28mself\u001b[39m\u001b[38;5;241m.\u001b[39mexecutable(\u001b[38;5;28mself\u001b[39m\u001b[38;5;241m.\u001b[39mpath):\n\u001b[1;32m--> 146\u001b[0m     \u001b[38;5;28;01mraise\u001b[39;00m PulpSolverError(\n\u001b[0;32m    147\u001b[0m         \u001b[38;5;124m\"\u001b[39m\u001b[38;5;124mPulp: cannot execute \u001b[39m\u001b[38;5;132;01m%s\u001b[39;00m\u001b[38;5;124m cwd: \u001b[39m\u001b[38;5;132;01m%s\u001b[39;00m\u001b[38;5;124m\"\u001b[39m \u001b[38;5;241m%\u001b[39m (\u001b[38;5;28mself\u001b[39m\u001b[38;5;241m.\u001b[39mpath, os\u001b[38;5;241m.\u001b[39mgetcwd())\n\u001b[0;32m    148\u001b[0m     )\n\u001b[0;32m    149\u001b[0m tmpLp, tmpMps, tmpSol, tmpMst \u001b[38;5;241m=\u001b[39m \u001b[38;5;28mself\u001b[39m\u001b[38;5;241m.\u001b[39mcreate_tmp_files(\n\u001b[0;32m    150\u001b[0m     lp\u001b[38;5;241m.\u001b[39mname, \u001b[38;5;124m\"\u001b[39m\u001b[38;5;124mlp\u001b[39m\u001b[38;5;124m\"\u001b[39m, \u001b[38;5;124m\"\u001b[39m\u001b[38;5;124mmps\u001b[39m\u001b[38;5;124m\"\u001b[39m, \u001b[38;5;124m\"\u001b[39m\u001b[38;5;124msol\u001b[39m\u001b[38;5;124m\"\u001b[39m, \u001b[38;5;124m\"\u001b[39m\u001b[38;5;124mmst\u001b[39m\u001b[38;5;124m\"\u001b[39m\n\u001b[0;32m    151\u001b[0m )\n\u001b[0;32m    152\u001b[0m \u001b[38;5;28;01mif\u001b[39;00m use_mps:\n",
      "\u001b[1;31mPulpSolverError\u001b[0m: Pulp: cannot execute C:\\Users\\Guillermo\\anaconda3\\envs\\tda\\Lib\\site-packages\\pulp\\solverdir\\cbc\\win\\64\\cbc.exe cwd: C:\\Users\\Guillermo\\Documents\\tda\\tda-tps\\tp3"
     ]
    }
   ],
   "source": [
    "# Medicion del tiempo total del algoritmo\n",
    "\n",
    "ns = []\n",
    "times = []\n",
    "function_n_squared = []\n",
    "function_nlogn =[]\n",
    "for i in range(25, 501, 25):\n",
    "\n",
    "    filename = f\"./testcases/testcase_{str(i)}.txt\"\n",
    "    a, b = parse_file(filename)\n",
    "        \n",
    "    start_time = time.time()\n",
    "    c = lineal_hitting_set(a, b)\n",
    "    end_time = time.time()\n",
    "        \n",
    "    ns.append(i)\n",
    "    function_nlogn.append(i*math.log(i)/100000)\n",
    "    function_n_squared.append(i*i/10000000)\n",
    "    times.append(end_time - start_time)\n",
    "    \n",
    "plt.plot(ns, times)\n",
    "plt.plot(ns, function_nlogn)\n",
    "plt.plot(ns, function_n_squared)\n",
    "plt.xlabel(\"Numero de periodistas\")\n",
    "plt.ylabel(\"Tiempo de ejecucion (s)\")\n",
    "plt.legend([\"Tiempo de ejecucion\", \"Funcion nlog(n) * 0.00001\", \"Funcion n^2 * 0.0000001\"])\n",
    "plt.title(\"Tiempo de ejecucion del algoritmo greedy\")\n",
    "plt.grid()\n",
    "plt.show()"
   ]
  },
  {
   "cell_type": "code",
   "execution_count": null,
   "id": "3cedea9f",
   "metadata": {},
   "outputs": [],
   "source": []
  }
 ],
 "metadata": {
  "kernelspec": {
   "display_name": "Python 3 (ipykernel)",
   "language": "python",
   "name": "python3"
  },
  "language_info": {
   "codemirror_mode": {
    "name": "ipython",
    "version": 3
   },
   "file_extension": ".py",
   "mimetype": "text/x-python",
   "name": "python",
   "nbconvert_exporter": "python",
   "pygments_lexer": "ipython3",
   "version": "3.11.5"
  }
 },
 "nbformat": 4,
 "nbformat_minor": 5
}
