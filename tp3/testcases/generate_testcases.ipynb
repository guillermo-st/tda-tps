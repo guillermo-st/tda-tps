{
 "cells": [
  {
   "cell_type": "code",
   "execution_count": 17,
   "id": "b4978279",
   "metadata": {},
   "outputs": [],
   "source": [
    "import random\n",
    "\n",
    "PLAYERS=43\n",
    "MIN_SLICE_SIZE=3\n",
    "MAX_SLICE_SIZE=9\n",
    "\n",
    "def random_values_to_file(n, filename):\n",
    "    with open(filename, \"w\") as file:\n",
    "        values = range(PLAYERS) #A\n",
    "        values = list(map(str, values))\n",
    "        \n",
    "        for line in range(n):\n",
    "            line_values = random.sample(values, random.randint(MIN_SLICE_SIZE, MAX_SLICE_SIZE)) #Bi\n",
    "            file.write(\",\".join(line_values))\n",
    "            file.write(\"\\n\")\n",
    "        \n",
    "if __name__ == \"__main__\":\n",
    "    for i in range(25, 501, 25):\n",
    "        filename = \"testcase_\" + str(i) + \".txt\"\n",
    "        random_values_to_file(i, filename)        \n",
    "        \n",
    "\n",
    "\n"
   ]
  },
  {
   "cell_type": "code",
   "execution_count": null,
   "id": "8da6a407",
   "metadata": {},
   "outputs": [],
   "source": []
  }
 ],
 "metadata": {
  "kernelspec": {
   "display_name": "Python 3",
   "language": "python",
   "name": "python3"
  },
  "language_info": {
   "codemirror_mode": {
    "name": "ipython",
    "version": 3
   },
   "file_extension": ".py",
   "mimetype": "text/x-python",
   "name": "python",
   "nbconvert_exporter": "python",
   "pygments_lexer": "ipython3",
   "version": "3.8.8"
  }
 },
 "nbformat": 4,
 "nbformat_minor": 5
}
