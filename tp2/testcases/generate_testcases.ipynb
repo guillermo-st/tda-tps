{
 "cells": [
  {
   "cell_type": "code",
   "execution_count": 4,
   "id": "b4978279",
   "metadata": {},
   "outputs": [],
   "source": [
    "import random\n",
    "\n",
    "def random_int(n):\n",
    "    return random.randint(1,n)\n",
    "\n",
    "def random_list(n):\n",
    "    return [random_int(n) for i in range(n)]\n",
    "\n",
    "def random_trainings_to_file(n, filename):\n",
    "    with open(filename, \"w\") as file:\n",
    "        file.write(str(n) + \"\\n\")\n",
    "        random_gains = random_list(n)\n",
    "        \n",
    "        for gain in random_gains:\n",
    "            file.write(str(gain) + \"\\n\")\n",
    "        \n",
    "        random_energies = random_list(n)\n",
    "        random_energies.sort(reverse=True)\n",
    "        for e in random_energies:\n",
    "            file.write(str(e) + \"\\n\")\n",
    "        \n",
    "if __name__ == \"__main__\":\n",
    "    for i in range(1000, 56000, 5000):\n",
    "        filename = \"testcase_\" + str(i) + \".txt\"\n",
    "        random_trainings_to_file(i, filename)\n",
    "    \n",
    "    random_trainings_to_file(10, \"a.txt\")\n",
    "        \n",
    "        \n",
    "\n",
    "\n"
   ]
  },
  {
   "cell_type": "code",
   "execution_count": null,
   "id": "8da6a407",
   "metadata": {},
   "outputs": [],
   "source": []
  }
 ],
 "metadata": {
  "kernelspec": {
   "display_name": "Python 3",
   "language": "python",
   "name": "python3"
  },
  "language_info": {
   "codemirror_mode": {
    "name": "ipython",
    "version": 3
   },
   "file_extension": ".py",
   "mimetype": "text/x-python",
   "name": "python",
   "nbconvert_exporter": "python",
   "pygments_lexer": "ipython3",
   "version": "3.8.8"
  }
 },
 "nbformat": 4,
 "nbformat_minor": 5
}
