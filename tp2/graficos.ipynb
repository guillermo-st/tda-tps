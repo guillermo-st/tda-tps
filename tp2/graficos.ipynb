{
 "cells": [
  {
   "cell_type": "code",
   "execution_count": 2,
   "id": "7383eb17",
   "metadata": {},
   "outputs": [],
   "source": [
    "from main import parse_input, g_max, max_index, show_trained_days\n",
    "import time\n",
    "import math\n",
    "import matplotlib.pyplot as plt"
   ]
  },
  {
   "cell_type": "code",
   "execution_count": null,
   "id": "169c08fb",
   "metadata": {},
   "outputs": [],
   "source": [
    "# Medicion del tiempo total del algoritmo\n",
    "\n",
    "ns = []\n",
    "times = []\n",
    "function_n_squared = []\n",
    "function_nlogn =[]\n",
    "for i in range(1000, 26000, 2500):\n",
    "\n",
    "    filename = f\"./testcases/testcase_{str(i)}.txt\"\n",
    "    n, e, s = parse_input(filename)\n",
    "        \n",
    "    start_time = time.time()\n",
    "    g, max_g = g_max(n,e,s)\n",
    "    end_time = time.time()\n",
    "        \n",
    "    ns.append(i)\n",
    "    function_nlogn.append(i*math.log(i)/10000)\n",
    "    function_n_squared.append(i*i/1000000)\n",
    "    times.append(end_time - start_time)\n",
    "    \n",
    "plt.plot(ns, times)\n",
    "plt.plot(ns, function_nlogn)\n",
    "plt.plot(ns, function_n_squared)\n",
    "plt.xlabel(\"Numero de días de entrenamiento\")\n",
    "plt.ylabel(\"Tiempo de ejecucion (s)\")\n",
    "plt.legend([\"Tiempo de ejecucion\", \"Funcion nlog(n) * 0.0001\", \"Funcion n^2 * 0.000001\"])\n",
    "plt.title(\"Tiempo de ejecucion del algoritmo\")\n",
    "plt.grid()\n",
    "plt.show()"
   ]
  },
  {
   "cell_type": "code",
   "execution_count": null,
   "id": "3cedea9f",
   "metadata": {},
   "outputs": [],
   "source": []
  }
 ],
 "metadata": {
  "kernelspec": {
   "display_name": "Python 3",
   "language": "python",
   "name": "python3"
  },
  "language_info": {
   "codemirror_mode": {
    "name": "ipython",
    "version": 3
   },
   "file_extension": ".py",
   "mimetype": "text/x-python",
   "name": "python",
   "nbconvert_exporter": "python",
   "pygments_lexer": "ipython3",
   "version": "3.8.8"
  }
 },
 "nbformat": 4,
 "nbformat_minor": 5
}
