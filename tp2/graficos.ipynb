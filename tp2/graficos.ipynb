{
 "cells": [
  {
   "cell_type": "code",
   "execution_count": 1,
   "id": "7da1b626",
   "metadata": {},
   "outputs": [],
   "source": [
    "from main import parse_input, g_max, max_index, show_trained_days\n",
    "import time\n",
    "import math\n",
    "import matplotlib.pyplot as plt"
   ]
  },
  {
   "cell_type": "code",
   "execution_count": null,
   "id": "f870059e",
   "metadata": {},
   "outputs": [],
   "source": [
    "# Medicion del tiempo total del algoritmo\n",
    "cases = 1000\n",
    "\n",
    "n = []\n",
    "times = []\n",
    "function_n_squared = []\n",
    "function_nlogn =[]\n",
    "for i in range(cases):\n",
    "    if i == 0:\n",
    "        continue\n",
    "    else:\n",
    "        filename = f\"./testcases/testcase_{str(i * 100)}.txt\"\n",
    "        n, e, s = parse_input(filename)\n",
    "        \n",
    "        start_time = time.time()\n",
    "        g, max_g = g_max(n,e,s)\n",
    "        full_review_time(sorted_list)\n",
    "        end_time = time.time()\n",
    "        \n",
    "        n.append(i * 100)\n",
    "        function_nlogn.append(i*math.log(i)/10000)\n",
    "        function_n_squared.append(i*i/10000)\n",
    "        times.append(end_time - start_time)\n",
    "    \n",
    "plt.plot(n, times)\n",
    "plt.plot(n, function_nlogn)\n",
    "plt.plot(n, function_n_squared)\n",
    "plt.xlabel(\"Numero de días de entrenamiento\")\n",
    "plt.ylabel(\"Tiempo de ejecucion (s)\")\n",
    "plt.legend([\"Tiempo de ejecucion\", \"Funcion nlog(n) * 0.0001\", \"Funcion n^2) * 0.0001\"])\n",
    "plt.title(\"Tiempo de ejecucion del algoritmo\")\n",
    "plt.grid()\n",
    "plt.show()"
   ]
  }
 ],
 "metadata": {
  "kernelspec": {
   "display_name": "Python 3",
   "language": "python",
   "name": "python3"
  },
  "language_info": {
   "codemirror_mode": {
    "name": "ipython",
    "version": 3
   },
   "file_extension": ".py",
   "mimetype": "text/x-python",
   "name": "python",
   "nbconvert_exporter": "python",
   "pygments_lexer": "ipython3",
   "version": "3.8.8"
  }
 },
 "nbformat": 4,
 "nbformat_minor": 5
}
